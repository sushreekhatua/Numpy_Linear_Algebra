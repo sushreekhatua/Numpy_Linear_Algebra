{
 "cells": [
  {
   "cell_type": "markdown",
   "metadata": {},
   "source": [
    "### 1.Define a symmertic 3x3 matric and print the transpose of the symmetric matrix"
   ]
  },
  {
   "cell_type": "markdown",
   "metadata": {},
   "source": [
    "#### 3x3 symmetric matrix:\n",
    "**Transpose** of a matrix is an operator which flips a matrix over its diagonal.It switches the row and column indices of the matrix A by producing another matrix.\n",
    "In linear algebra, a symmetric matrix is a square matrix that is equal to its transpose.$$A \\,is \\,symmetric \\iff A = A^T$$\n",
    " \n",
    " So,3x3 symmetric matrix means a symmetric matrix is having 3 rows and 3 columns.\n"
   ]
  },
  {
   "cell_type": "code",
   "execution_count": 8,
   "metadata": {},
   "outputs": [
    {
     "name": "stdout",
     "output_type": "stream",
     "text": [
      "[[8 0 5]\n",
      " [0 9 4]\n",
      " [1 0 3]]\n",
      "\n",
      "[[8 0 1]\n",
      " [0 9 0]\n",
      " [5 4 3]]\n",
      "\n",
      "The symmetric 3x3 matrix is\n",
      "  [[89 20 23]\n",
      " [20 97 12]\n",
      " [23 12 10]]\n",
      "\n",
      "The transpose of this matrix is\n",
      " [[89 20 23]\n",
      " [20 97 12]\n",
      " [23 12 10]]\n"
     ]
    }
   ],
   "source": [
    "import numpy as np\n",
    "\n",
    "p=np.random.randint(0,10,(3,3))\n",
    "print(p)\n",
    "print(\"\")\n",
    "print(p.T)\n",
    "print(\"\")\n",
    "#s=symmetric matrix and s=p@p^T\n",
    "s=p @ p.T\n",
    "print(f\"The symmetric 3x3 matrix is\\n  {s}\" )\n",
    "print(\"\")\n",
    "\n",
    "#the transpose value of matrix\n",
    "print(f\"The transpose of this matrix is\\n {s.T}\")\n"
   ]
  },
  {
   "cell_type": "markdown",
   "metadata": {},
   "source": [
    "### 2.With the 3x3 matrix calculate the\n",
    "- lower traingular matrix\n",
    "- upper triangular matrix"
   ]
  },
  {
   "cell_type": "markdown",
   "metadata": {},
   "source": [
    "#### Lower triangular matrix:\n",
    "- A square matrix is lower triangular if all its entries above the main diagonal are zero.\n",
    "- The tril() function is used to get a lower triangle of an array. Return a copy of an array with elements above the k-th diagonal zeroed.\n",
    "\n",
    "#### Upper triangular matrix:\n",
    "- A square matrix is upper triangular if all its entries below the main diagonal are zero.\n",
    "-  The triu() function is used to get a copy of a matrix with the elements below the k-th diagonal zeroed."
   ]
  },
  {
   "cell_type": "code",
   "execution_count": 36,
   "metadata": {},
   "outputs": [
    {
     "name": "stdout",
     "output_type": "stream",
     "text": [
      "The 3x3 matrix is\n",
      " [[3 2 0]\n",
      " [4 6 3]\n",
      " [8 3 0]]\n",
      "\n",
      "The lower triangular matrix is\n",
      " [[3 0 0]\n",
      " [4 6 0]\n",
      " [8 3 0]]\n",
      "\n",
      "The upper triangular matrix is\n",
      " [[3 2 0]\n",
      " [0 6 3]\n",
      " [0 0 0]]\n"
     ]
    }
   ],
   "source": [
    "x=np.random.randint(0,9,(3,3))\n",
    "print(f\"The 3x3 matrix is\\n {x}\")\n",
    "print(\"\")\n",
    "#lower triangular matrix\n",
    "print(f\"The lower triangular matrix is\\n {np.tril(x)}\")\n",
    "print(\"\")\n",
    "#upper triangular matrix\n",
    "print(f\"The upper triangular matrix is\\n {np.triu(x)}\")"
   ]
  },
  {
   "cell_type": "markdown",
   "metadata": {},
   "source": [
    "### 3.Define a 5x3 matrix and get the :\n",
    "- diagonal vector\n",
    "- get diagonal matrix form vector"
   ]
  },
  {
   "cell_type": "markdown",
   "metadata": {},
   "source": [
    "#### Diagonal matrix:\n",
    "- A matrix is diagonal if all elements above and below the main diagonal are zero. Any number of the elements on the main diagonal can also be zero.\n",
    "\n",
    "- The formula used to get diagonal matrix :**numpy.diag(v, k=0)**,where v=2-D array, return a copy of its k-th diagonal. If v is a 1-D array, return a 2-D array with v on the k-th diagonal,k=The default is 0. Use k>0 for diagonals above the main diagonal, and k<0 for diagonals below the main diagonal."
   ]
  },
  {
   "cell_type": "code",
   "execution_count": 3,
   "metadata": {},
   "outputs": [
    {
     "name": "stdout",
     "output_type": "stream",
     "text": [
      "The matrix is\n",
      " [[ 1  2  3]\n",
      " [ 4  5  6]\n",
      " [ 7  8  9]\n",
      " [10 11 12]\n",
      " [13 14 15]]\n",
      "\n",
      "The diagonal vector is [1 5 9]\n",
      "\n",
      "The matrix is\n",
      " [[1 0 0]\n",
      " [0 5 0]\n",
      " [0 0 9]]\n"
     ]
    }
   ],
   "source": [
    "a=np.arange(1,16).reshape(5,3)\n",
    "print(f\"The matrix is\\n {a}\")\n",
    "print(\"\")\n",
    "#diagonal vector\n",
    "x=np.diagonal(a)\n",
    "print(f\"The diagonal vector is {x}\")\n",
    "print(\"\")\n",
    "#create a matrix from diagonal vector\n",
    "y=np.diag(x)\n",
    "print(f\"The matrix is\\n {y}\")\n",
    "\n"
   ]
  },
  {
   "cell_type": "markdown",
   "metadata": {},
   "source": [
    "### 4.create a Identiy matrix"
   ]
  },
  {
   "cell_type": "markdown",
   "metadata": {},
   "source": [
    "#### Identity matrix:\n",
    "In linear algebra, the identity matrix of size n is the n × n square matrix with ones on the main diagonal and zeros elsewhere."
   ]
  },
  {
   "cell_type": "code",
   "execution_count": 38,
   "metadata": {},
   "outputs": [
    {
     "name": "stdout",
     "output_type": "stream",
     "text": [
      "The 3x3 identity matrix is\n",
      "  [[1 0 0]\n",
      " [0 1 0]\n",
      " [0 0 1]]\n"
     ]
    }
   ],
   "source": [
    "print(f\"The 3x3 identity matrix is\\n  {np.identity(3,dtype='i')}\")"
   ]
  },
  {
   "cell_type": "markdown",
   "metadata": {},
   "source": [
    "### 5. Define a orthogonal matrix and get:\n",
    "- inverse of matrix\n",
    "\n",
    "- show that  Q.QT=I \n",
    "\n",
    "where Q is the orthogonal matrix"
   ]
  },
  {
   "cell_type": "markdown",
   "metadata": {},
   "source": [
    "#### Orthogonal matrix:\n",
    "In linear algebra, an orthogonal matrix, or orthonormal matrix, is a real square matrix whose columns and rows are orthonormal vectors.\n",
    "\n",
    "One way to express this is\n",
    "\n",
    "${\\displaystyle Q^{\\mathrm {T} }Q=QQ^{\\mathrm {T} }=I,}Q^{\\mathrm {T} }Q=QQ^{\\mathrm {T} }=I$,\n",
    "where QT is the transpose of Q and I is the identity matrix.\n",
    "\n",
    "This leads to the equivalent characterization: a matrix Q is orthogonal if its transpose is equal to its inverse:\n",
    "\n",
    "${\\displaystyle Q^{\\mathrm {T} }=Q^{-1},}$\n",
    "where Q−1 is the inverse of Q"
   ]
  },
  {
   "cell_type": "code",
   "execution_count": 39,
   "metadata": {},
   "outputs": [
    {
     "name": "stdout",
     "output_type": "stream",
     "text": [
      "The orthogonal matrix is\n",
      " [[-0.9392188  -0.28771706 -0.18731507]\n",
      " [ 0.34231968 -0.82641834 -0.44704582]\n",
      " [-0.0261779  -0.48399548  0.87467885]]\n",
      "\n",
      "The inverse of matrix m is\n",
      " [[-0.9392188   0.34231968 -0.0261779 ]\n",
      " [-0.28771706 -0.82641834 -0.48399548]\n",
      " [-0.18731507 -0.44704582  0.87467885]]\n",
      "\n",
      "the transpose of matrix m is\n",
      ")[[-0.9392188   0.34231968 -0.0261779 ]\n",
      " [-0.28771706 -0.82641834 -0.48399548]\n",
      " [-0.18731507 -0.44704582  0.87467885]]\n",
      "\n",
      "The symmetric matrix I is\n",
      " [[1.00000000e+00 2.77555756e-17 1.11022302e-16]\n",
      " [2.77555756e-17 1.00000000e+00 3.88578059e-16]\n",
      " [1.11022302e-16 3.88578059e-16 1.00000000e+00]]\n"
     ]
    }
   ],
   "source": [
    "#random orthogonal matrix\n",
    "from scipy.stats import ortho_group\n",
    "import numpy as np\n",
    "m=ortho_group.rvs(dim=3)\n",
    "print(f\"The orthogonal matrix is\\n {m}\")\n",
    "print(\"\")\n",
    "print(f\"The inverse of matrix m is\\n {np.linalg.inv(m)}\")\n",
    "print(\"\")\n",
    "print(f\"the transpose of matrix m is\\n){np.transpose(m)}\")\n",
    "print(\"\")\n",
    "#show the condition Q.QT=I,where Q is the orthogonal matrix and I is symmetric matrix\n",
    "I=np.matmul(m,m.T)\n",
    "print(f\"The symmetric matrix I is\\n {I}\")\n"
   ]
  },
  {
   "cell_type": "markdown",
   "metadata": {},
   "source": [
    "### 6.Define a matrix and calulate the trace of matrix"
   ]
  },
  {
   "cell_type": "markdown",
   "metadata": {},
   "source": [
    "#### Trace of matrix:\n",
    "- Trace of the matrix is defined as the sum along diagonals of the matrix.\n",
    "- numpy.trace() is used to calculate trace of matrix."
   ]
  },
  {
   "cell_type": "code",
   "execution_count": 40,
   "metadata": {},
   "outputs": [
    {
     "name": "stdout",
     "output_type": "stream",
     "text": [
      "The matrix is\n",
      " [[ 0  1  2  3  4]\n",
      " [ 5  6  7  8  9]\n",
      " [10 11 12 13 14]\n",
      " [15 16 17 18 19]\n",
      " [20 21 22 23 24]]\n",
      "\n",
      "Trace of the matrix is\n",
      " 60\n"
     ]
    }
   ],
   "source": [
    "a=np.arange(25).reshape(5,5)\n",
    "print(f\"The matrix is\\n {a}\")\n",
    "#calculate the trace of matrix\n",
    "print(\"\")\n",
    "print(f\"Trace of the matrix is\\n {a.trace()}\")"
   ]
  },
  {
   "cell_type": "markdown",
   "metadata": {},
   "source": [
    "### 7.define a 3x3 matrix and calc determinant, ie not invertable"
   ]
  },
  {
   "cell_type": "code",
   "execution_count": 41,
   "metadata": {},
   "outputs": [
    {
     "name": "stdout",
     "output_type": "stream",
     "text": [
      "[[6 7 8]\n",
      " [3 6 5]\n",
      " [4 3 8]]\n"
     ]
    },
    {
     "data": {
      "text/plain": [
       "50.000000000000014"
      ]
     },
     "execution_count": 41,
     "metadata": {},
     "output_type": "execute_result"
    }
   ],
   "source": [
    "a=np.random.randint(1,9,(3,3))\n",
    "print(a)\n",
    "np.linalg.det(a)\n"
   ]
  },
  {
   "cell_type": "markdown",
   "metadata": {},
   "source": [
    "### 8.create a 2x2 matrix , 1x3 matrix and calculate the rank of the matrix"
   ]
  },
  {
   "cell_type": "code",
   "execution_count": 42,
   "metadata": {},
   "outputs": [
    {
     "name": "stdout",
     "output_type": "stream",
     "text": [
      "The  2x2 matrix is\n",
      " [[9 5]\n",
      " [7 4]]\n",
      "\n",
      "The  1x3 matrix is\n",
      " [[0 4 0]]\n",
      "\n",
      "The rank of  2x2 matrix is: 2\n",
      "The rank of 1x3 matrix is: 1\n"
     ]
    }
   ],
   "source": [
    "a=np.random.randint(0,10,(2,2))\n",
    "b=np.random.randint(0,6,(1,3))\n",
    "print(f\"The  2x2 matrix is\\n {a}\")\n",
    "print(\"\")\n",
    "print(f\"The  1x3 matrix is\\n {b}\")\n",
    "#rank of the matrix\n",
    "print(\"\")\n",
    "print(f\"The rank of  2x2 matrix is: {np.linalg.matrix_rank(a)}\")\n",
    "print(f\"The rank of 1x3 matrix is: {np.linalg.matrix_rank(b)}\")"
   ]
  },
  {
   "cell_type": "markdown",
   "metadata": {},
   "source": [
    "### 9.create a 3*6 matrix with zeros and ones and count the zeros in matrix\n",
    "- also find the size of matrix\n",
    "- calculate the matrix sparsity: count of zeros/size of matrix"
   ]
  },
  {
   "cell_type": "code",
   "execution_count": 43,
   "metadata": {},
   "outputs": [
    {
     "name": "stdout",
     "output_type": "stream",
     "text": [
      "[[0 1 0 1 0 0]\n",
      " [0 1 1 0 1 1]\n",
      " [0 1 0 0 1 1]]\n",
      "\n",
      "The size of matrix is: 18\n",
      "Sparsity of matrix is 0.5\n"
     ]
    }
   ],
   "source": [
    "#create a 3*6 matrix with zeros and ones\n",
    "a=np.random.randint(0,2,(3,6))\n",
    "print(a)\n",
    "print(\"\")\n",
    "\n",
    "#sixe of matrix\n",
    "print(f\"The size of matrix is: {np.size(a)}\")\n",
    "\n",
    "#calculate the matrix sparsity:count of zeros/sixe of matrix\n",
    "sparcity=1-np.count_nonzero(a)/np.size(a)\n",
    "print(f\"Sparsity of matrix is {sparcity}\")"
   ]
  },
  {
   "cell_type": "markdown",
   "metadata": {},
   "source": [
    "### 10.convert the sparse using csr method and again reconstruct to dense\n",
    "A = array([ [1, 0, 0, 1, 0, 0], [0, 0, 2, 0, 0, 1], [0, 0, 0, 2, 0, 0] ]) #dense matrix"
   ]
  },
  {
   "cell_type": "markdown",
   "metadata": {},
   "source": [
    "**A dense matrix** stored in a Numpy array can be converted into a sparse matrix using the CSR  representation by calling the csr_matrix() function."
   ]
  },
  {
   "cell_type": "code",
   "execution_count": 44,
   "metadata": {},
   "outputs": [
    {
     "name": "stdout",
     "output_type": "stream",
     "text": [
      "[[1 0 0 1 0 0]\n",
      " [0 0 2 0 0 1]\n",
      " [0 0 0 2 0 0]]\n",
      "\n",
      "  (0, 0)\t1\n",
      "  (0, 3)\t1\n",
      "  (1, 2)\t2\n",
      "  (1, 5)\t1\n",
      "  (2, 3)\t2\n",
      "\n",
      "[[1 0 0 1 0 0]\n",
      " [0 0 2 0 0 1]\n",
      " [0 0 0 2 0 0]]\n"
     ]
    }
   ],
   "source": [
    "from numpy import array\n",
    "from scipy.sparse import csr_matrix\n",
    "\n",
    "# create dense matrix\n",
    "A = array([[1, 0, 0, 1, 0, 0], [0, 0, 2, 0, 0, 1], [0, 0, 0, 2, 0, 0]])\n",
    "print(A)\n",
    "print(\"\")\n",
    "\n",
    "# convert to sparse matrix (CSR method)\n",
    "sp = csr_matrix(A)\n",
    "print(sp)\n",
    "print(\"\")\n",
    "\n",
    "# reconstruction of dense matrix\n",
    "B = sp.todense()\n",
    "print(B)"
   ]
  },
  {
   "cell_type": "markdown",
   "metadata": {},
   "source": [
    "### 11.define a tensor of matrix of shape (3,3,3)"
   ]
  },
  {
   "cell_type": "markdown",
   "metadata": {},
   "source": [
    "#### Tensor:\n",
    "- An array of numbers arranged on a regular grid with a variable number of axes is known as a tensor.\n",
    "- A vector is a one-dimensional or first order tensor and a matrix is a two-dimensional or second order tensor."
   ]
  },
  {
   "cell_type": "code",
   "execution_count": 45,
   "metadata": {},
   "outputs": [
    {
     "name": "stdout",
     "output_type": "stream",
     "text": [
      "[[[12  4  4]\n",
      "  [14  7 24]\n",
      "  [25  6 26]]\n",
      "\n",
      " [[ 1 11  9]\n",
      "  [18 22 25]\n",
      "  [ 9 25 26]]\n",
      "\n",
      " [[12 23 15]\n",
      "  [ 6 12  3]\n",
      "  [11 15 18]]]\n",
      "\n",
      "(3, 3, 3)\n"
     ]
    }
   ],
   "source": [
    "# create a tensor of matrix of shape(3*3*3)\n",
    "tensor=np.random.randint(1,28,(3,3,3))\n",
    "print(tensor)\n",
    "print(\"\")\n",
    "\n",
    "#checking the shape\n",
    "print(tensor.shape)"
   ]
  },
  {
   "cell_type": "markdown",
   "metadata": {},
   "source": [
    "### 12.create a 2 tensor of size (3,3,3) and perform:\n",
    "- tensor additon\n",
    "- tensor substraction"
   ]
  },
  {
   "cell_type": "code",
   "execution_count": 46,
   "metadata": {},
   "outputs": [
    {
     "name": "stdout",
     "output_type": "stream",
     "text": [
      "The first tensor is\n",
      " [[[ 1  2  3]\n",
      "  [ 4  5  6]\n",
      "  [ 7  8  9]]\n",
      "\n",
      " [[10 11 12]\n",
      "  [13 14 15]\n",
      "  [16 17 18]]\n",
      "\n",
      " [[19 20 21]\n",
      "  [22 23 24]\n",
      "  [25 26 27]]]\n",
      "\n",
      "The second tensor is\n",
      " [[[ 1  2  3]\n",
      "  [ 4  5  6]\n",
      "  [ 7  8  9]]\n",
      "\n",
      " [[10 11 12]\n",
      "  [13 14 15]\n",
      "  [16 17 18]]\n",
      "\n",
      " [[19 20 21]\n",
      "  [22 23 24]\n",
      "  [25 26 27]]]\n",
      "\n",
      "The result of addition of two tensors is\n",
      " [[[ 2  4  6]\n",
      "  [ 8 10 12]\n",
      "  [14 16 18]]\n",
      "\n",
      " [[20 22 24]\n",
      "  [26 28 30]\n",
      "  [32 34 36]]\n",
      "\n",
      " [[38 40 42]\n",
      "  [44 46 48]\n",
      "  [50 52 54]]]\n",
      "\n",
      "The result of substraction of two tensors is\n",
      " [[[0 0 0]\n",
      "  [0 0 0]\n",
      "  [0 0 0]]\n",
      "\n",
      " [[0 0 0]\n",
      "  [0 0 0]\n",
      "  [0 0 0]]\n",
      "\n",
      " [[0 0 0]\n",
      "  [0 0 0]\n",
      "  [0 0 0]]]\n"
     ]
    }
   ],
   "source": [
    "a=np.arange(1,28).reshape(3,3,3)\n",
    "b=np.arange(1,28).reshape(3,3,3)\n",
    "print(f\"The first tensor is\\n {a}\")\n",
    "print(\"\")\n",
    "print(f\"The second tensor is\\n {b}\")\n",
    "print(\"\")\n",
    "\n",
    "#tensor addition\n",
    "c = a + b\n",
    "print(f\"The result of addition of two tensors is\\n {c}\")\n",
    "print(\"\")\n",
    "\n",
    "#tensor substraction\n",
    "d = a - b\n",
    "print(f\"The result of substraction of two tensors is\\n {d}\")\n"
   ]
  },
  {
   "cell_type": "markdown",
   "metadata": {},
   "source": [
    "### 13.perform a Hadamard Product for the above tensor"
   ]
  },
  {
   "cell_type": "markdown",
   "metadata": {},
   "source": [
    "#### Hadamard Product:\n",
    "The element-wise multiplication of one tensor from another tensor with the same dimensions results in a new tensor with the same dimensions is known as Hadamad product."
   ]
  },
  {
   "cell_type": "code",
   "execution_count": 47,
   "metadata": {},
   "outputs": [
    {
     "name": "stdout",
     "output_type": "stream",
     "text": [
      "The first tensor is\n",
      " [[[ 1  2  3]\n",
      "  [ 4  5  6]\n",
      "  [ 7  8  9]]\n",
      "\n",
      " [[10 11 12]\n",
      "  [13 14 15]\n",
      "  [16 17 18]]\n",
      "\n",
      " [[19 20 21]\n",
      "  [22 23 24]\n",
      "  [25 26 27]]]\n",
      "\n",
      "The second tensor is\n",
      " [[[ 1  2  3]\n",
      "  [ 4  5  6]\n",
      "  [ 7  8  9]]\n",
      "\n",
      " [[10 11 12]\n",
      "  [13 14 15]\n",
      "  [16 17 18]]\n",
      "\n",
      " [[19 20 21]\n",
      "  [22 23 24]\n",
      "  [25 26 27]]]\n",
      "\n",
      "The product of two tensors is\n",
      " [[[  1   4   9]\n",
      "  [ 16  25  36]\n",
      "  [ 49  64  81]]\n",
      "\n",
      " [[100 121 144]\n",
      "  [169 196 225]\n",
      "  [256 289 324]]\n",
      "\n",
      " [[361 400 441]\n",
      "  [484 529 576]\n",
      "  [625 676 729]]]\n"
     ]
    }
   ],
   "source": [
    "a=np.arange(1,28).reshape(3,3,3)\n",
    "b=np.arange(1,28).reshape(3,3,3)\n",
    "print(f\"The first tensor is\\n {a}\")\n",
    "print(\"\")\n",
    "print(f\"The second tensor is\\n {b}\")\n",
    "print(\"\")\n",
    "\n",
    "#Hadamard Product:\n",
    "h = a * b\n",
    "print(f\"The product of two tensors is\\n {h}\")"
   ]
  },
  {
   "cell_type": "markdown",
   "metadata": {},
   "source": [
    "### 14.Perform a Tensor division for a tensor of shape T1 and T2 of shape(4,3,3)"
   ]
  },
  {
   "cell_type": "code",
   "execution_count": 52,
   "metadata": {},
   "outputs": [
    {
     "name": "stdout",
     "output_type": "stream",
     "text": [
      "The first tensor is\n",
      " [[[ 1  2  3]\n",
      "  [ 4  5  6]\n",
      "  [ 7  8  9]]\n",
      "\n",
      " [[10 11 12]\n",
      "  [13 14 15]\n",
      "  [16 17 18]]\n",
      "\n",
      " [[19 20 21]\n",
      "  [22 23 24]\n",
      "  [25 26 27]]\n",
      "\n",
      " [[28 29 30]\n",
      "  [31 32 33]\n",
      "  [34 35 36]]]\n",
      "\n",
      "The second tensor is\n",
      " [[[ 1  2  3]\n",
      "  [ 4  5  6]\n",
      "  [ 7  8  9]]\n",
      "\n",
      " [[10 11 12]\n",
      "  [13 14 15]\n",
      "  [16 17 18]]\n",
      "\n",
      " [[19 20 21]\n",
      "  [22 23 24]\n",
      "  [25 26 27]]\n",
      "\n",
      " [[28 29 30]\n",
      "  [31 32 33]\n",
      "  [34 35 36]]]\n",
      "\n",
      "The divided value of two tensors is\n",
      " [[[1. 1. 1.]\n",
      "  [1. 1. 1.]\n",
      "  [1. 1. 1.]]\n",
      "\n",
      " [[1. 1. 1.]\n",
      "  [1. 1. 1.]\n",
      "  [1. 1. 1.]]\n",
      "\n",
      " [[1. 1. 1.]\n",
      "  [1. 1. 1.]\n",
      "  [1. 1. 1.]]\n",
      "\n",
      " [[1. 1. 1.]\n",
      "  [1. 1. 1.]\n",
      "  [1. 1. 1.]]]\n"
     ]
    }
   ],
   "source": [
    "T1=np.arange(1,37).reshape(4,3,3)\n",
    "T2=np.arange(1,37).reshape(4,3,3)\n",
    "print(f\"The first tensor is\\n {T1}\")\n",
    "print(\"\")\n",
    "print(f\"The second tensor is\\n {T2}\")\n",
    "print(\"\")\n",
    "\n",
    "# tensor division\n",
    "d = T1 / T2\n",
    "print(f\"The divided value of two tensors is\\n {d}\")"
   ]
  },
  {
   "cell_type": "markdown",
   "metadata": {},
   "source": [
    "### 15.define a 2 tensor of 2x2 and calculate the tensor product"
   ]
  },
  {
   "cell_type": "markdown",
   "metadata": {},
   "source": [
    "- The **tensor product** can be implemented in Numpy using the **tensordot()** function.\n",
    "- The function takes as arguments the two tensors to be multiplied and the axis on which to sum the products over, called the sum reduction.\n",
    "- To calculate the tensor product, also called the tensor dot product in NumPy, the axis must be set to 0."
   ]
  },
  {
   "cell_type": "code",
   "execution_count": 7,
   "metadata": {},
   "outputs": [
    {
     "name": "stdout",
     "output_type": "stream",
     "text": [
      "First tensor\n",
      " [[1 2]\n",
      " [3 4]]\n",
      "\n",
      "Second tensor\n",
      " [[1 2]\n",
      " [3 4]]\n",
      "\n",
      "Tensor product is\n",
      " [[[[ 1  2]\n",
      "   [ 3  4]]\n",
      "\n",
      "  [[ 2  4]\n",
      "   [ 6  8]]]\n",
      "\n",
      "\n",
      " [[[ 3  6]\n",
      "   [ 9 12]]\n",
      "\n",
      "  [[ 4  8]\n",
      "   [12 16]]]]\n"
     ]
    }
   ],
   "source": [
    "from numpy import array\n",
    "from numpy import tensordot\n",
    "\n",
    "A = array([[1,2],[3,4]])\n",
    "print(f\"First tensor\\n {A}\")\n",
    "print(\"\")\n",
    "\n",
    "B = array([[1,2],[3,4]])\n",
    "print(f\"Second tensor\\n {B}\")\n",
    "print(\"\")\n",
    "\n",
    "C = tensordot(A, B, axes=0)\n",
    "print(f\"Tensor product is\\n {C}\")\n"
   ]
  },
  {
   "cell_type": "markdown",
   "metadata": {},
   "source": [
    "### 16.calulate the factorization factors a matrix(Lu) decompostion for an array of shape 3x3\n",
    "- recostruct the original matrix from the decompostion"
   ]
  },
  {
   "cell_type": "markdown",
   "metadata": {},
   "source": [
    "#### Matrix Decomposition:\n",
    "- A matrix decomposition is a way of reducing a matrix into its constituent parts.\n",
    "- A common analogy for matrix decomposition is the factoring of numbers, such as the factoring of 10 into 2 x 5. For this reason, matrix decomposition is also called matrix factorization. "
   ]
  },
  {
   "cell_type": "markdown",
   "metadata": {},
   "source": [
    "#### LU Matrix Decomposition:\n",
    "- The LU decomposition is for square matrices and decomposes a matrix into L and U components.\n",
    "- The LU decomposition can be implemented in Python with the lu() function.\n",
    "- The limitation of LU Matrix Decomposition is yhat,it is only implemented on square matrices."
   ]
  },
  {
   "cell_type": "code",
   "execution_count": 51,
   "metadata": {},
   "outputs": [
    {
     "name": "stdout",
     "output_type": "stream",
     "text": [
      "Matrix is\n",
      " [[1 2 3]\n",
      " [4 5 6]\n",
      " [7 8 9]]\n",
      "\n",
      "P =\n",
      " [[0. 1. 0.]\n",
      " [0. 0. 1.]\n",
      " [1. 0. 0.]]\n",
      "\n",
      "L =\n",
      " [[1.         0.         0.        ]\n",
      " [0.14285714 1.         0.        ]\n",
      " [0.57142857 0.5        1.        ]]\n",
      "\n",
      "U =\n",
      " [[7.00000000e+00 8.00000000e+00 9.00000000e+00]\n",
      " [0.00000000e+00 8.57142857e-01 1.71428571e+00]\n",
      " [0.00000000e+00 0.00000000e+00 1.11022302e-16]]\n",
      "\n",
      "The original matrix is\n",
      " [[1. 2. 3.]\n",
      " [4. 5. 6.]\n",
      " [7. 8. 9.]]\n"
     ]
    }
   ],
   "source": [
    "from numpy import array\n",
    "from scipy.linalg import lu\n",
    "# define a square matrix\n",
    "A = array([[1, 2, 3], [4, 5, 6], [7, 8, 9]])\n",
    "print(f\"Matrix is\\n {A}\")\n",
    "print(\"\")\n",
    "\n",
    "# LU decomposition\n",
    "P, L, U = lu(A)\n",
    "\n",
    "# P= matrix specifies a way to permute the result or return the result to the original order\n",
    "print(f\"P =\\n {P}\")\n",
    "print(\"\")\n",
    "\n",
    "#L=lower triangular matrix\n",
    "print(f\"L =\\n {L}\")\n",
    "print(\"\")\n",
    "\n",
    "#U=upper triangular matrix\n",
    "print(f\"U =\\n {U}\")\n",
    "print(\"\")\n",
    "\n",
    "# reconstruction of original matrix\n",
    "B = P.dot(L).dot(U)\n",
    "print(f\"The original matrix is\\n {B}\")"
   ]
  },
  {
   "cell_type": "markdown",
   "metadata": {},
   "source": [
    "### 17.from a matrix of shape 3x2\n",
    "- calculate the QR decompostion\n",
    "- reconstruct the original matrix"
   ]
  },
  {
   "cell_type": "markdown",
   "metadata": {},
   "source": [
    "#### QR Decomposition:\n",
    "- The QR decomposition is for m x n matrices (not limited to square matrices) and decomposes a matrix into Q and R components.\n",
    "- A = QR ,where A is the matrix that we wish to decompose, Q a matrix with the size m x m, and R is an upper triangle matrix with the size m x n.\n",
    "- The QR decomposition can be implemented in NumPy using the **qr() function**."
   ]
  },
  {
   "cell_type": "code",
   "execution_count": 8,
   "metadata": {},
   "outputs": [
    {
     "name": "stdout",
     "output_type": "stream",
     "text": [
      "Matrix is\n",
      " [[1 2]\n",
      " [3 4]\n",
      " [5 6]]\n",
      "Q =\n",
      " [[-0.16903085  0.89708523  0.40824829]\n",
      " [-0.50709255  0.27602622 -0.81649658]\n",
      " [-0.84515425 -0.34503278  0.40824829]]\n",
      "\n",
      "R =\n",
      " [[-5.91607978 -7.43735744]\n",
      " [ 0.          0.82807867]\n",
      " [ 0.          0.        ]]\n",
      "\n",
      "The original matrix is\n",
      " [[1. 2.]\n",
      " [3. 4.]\n",
      " [5. 6.]]\n"
     ]
    }
   ],
   "source": [
    "from numpy import array\n",
    "from numpy.linalg import qr\n",
    "\n",
    "# define a 3x2 matrix\n",
    "A = array([[1, 2], [3, 4], [5, 6]])\n",
    "print(f\"Matrix is\\n {A}\")\n",
    "\n",
    "# QR decomposition\n",
    "Q, R = qr(A, 'complete')\n",
    "\n",
    "#Q=square matrix\n",
    "print(f\"Q =\\n {Q}\")\n",
    "print(\"\")\n",
    "\n",
    "#R=upper triangular matrix\n",
    "print(f\"R =\\n {R}\")\n",
    "print(\"\")\n",
    "\n",
    "# reconstruction of original matrix\n",
    "B = Q.dot(R)\n",
    "print(f\"The original matrix is\\n {B}\")"
   ]
  },
  {
   "cell_type": "markdown",
   "metadata": {},
   "source": [
    "### 18.define a 3x3 matrix calculate:\n",
    "- cholesky decomposition using lower factorize\n",
    "- reconstruct the original matrix"
   ]
  },
  {
   "cell_type": "markdown",
   "metadata": {},
   "source": [
    "#### Cholesky Decomposition:\n",
    "- The Cholesky decomposition is for square symmetric matrices where all eigenvalues are greater than zero, so-called positive definite matrices\n",
    "- A = (U^T . U) where , U is the lower triangular matrix and U^T is the transpose of U.\n",
    "- The Cholesky decomposition can be implemented in NumPy by calling the cholesky() function. "
   ]
  },
  {
   "cell_type": "code",
   "execution_count": 56,
   "metadata": {},
   "outputs": [
    {
     "name": "stdout",
     "output_type": "stream",
     "text": [
      "Matrix is\n",
      " [[2 1 1]\n",
      " [1 2 1]\n",
      " [1 1 2]]\n",
      "\n",
      "L = [[1.41421356 0.         0.        ]\n",
      " [0.70710678 1.22474487 0.        ]\n",
      " [0.70710678 0.40824829 1.15470054]]\n",
      "\n",
      "The original matrix is\n",
      " [[2. 1. 1.]\n",
      " [1. 2. 1.]\n",
      " [1. 1. 2.]]\n"
     ]
    }
   ],
   "source": [
    "from numpy import array\n",
    "from numpy.linalg import cholesky\n",
    "\n",
    "# define a 3x3 matrix\n",
    "A = array([[2, 1, 1], [1, 2, 1], [1, 1, 2]])\n",
    "print(f\"Matrix is\\n {A}\")\n",
    "print(\"\")\n",
    "\n",
    "# Cholesky decomposition\n",
    "L = cholesky(A)\n",
    "print(f\"L = {L}\")\n",
    "print(\"\")\n",
    "\n",
    "# reconstruction of original matrix\n",
    "B = L.dot(L.T)\n",
    "print(f\"The original matrix is\\n {B}\")"
   ]
  },
  {
   "cell_type": "markdown",
   "metadata": {},
   "source": [
    "### 19.define a 3x3 matrix and calculate the:\n",
    "- eigendecomposition"
   ]
  },
  {
   "cell_type": "markdown",
   "metadata": {},
   "source": [
    "#### Eigen Decomposition:\n",
    "- The eigendecomposition decomposes a square matrix into a set of eigenvectors and eigenvalues.\n",
    "- The eigendecomposition can be calculated in NumPy using the **eig() function**."
   ]
  },
  {
   "cell_type": "code",
   "execution_count": 60,
   "metadata": {
    "scrolled": true
   },
   "outputs": [
    {
     "name": "stdout",
     "output_type": "stream",
     "text": [
      "Matrix is\n",
      " [[1 2 3]\n",
      " [4 5 6]\n",
      " [7 8 9]]\n",
      "\n",
      "eigen values=[ 1.61168440e+01 -1.11684397e+00 -1.30367773e-15]\n",
      "\n",
      "eigen vectors=[[-0.23197069 -0.78583024  0.40824829]\n",
      " [-0.52532209 -0.08675134 -0.81649658]\n",
      " [-0.8186735   0.61232756  0.40824829]]\n"
     ]
    }
   ],
   "source": [
    "# Eigen-decomposition\n",
    "from numpy import array\n",
    "from numpy.linalg import eig\n",
    "\n",
    "# define matrix\n",
    "A = array([[1, 2, 3], [4, 5, 6], [7, 8, 9]])\n",
    "print(f\"Matrix is\\n {A}\")\n",
    "print(\"\")\n",
    "\n",
    "# calculate Eigendecomposition\n",
    "values, vectors = eig(A)\n",
    "\n",
    "#values=eigenvalues\n",
    "print(f\"eigen values={values}\")\n",
    "print(\"\")\n",
    "\n",
    "#vectors=eigen vectors\n",
    "print(f\"eigen vectors={vectors}\")"
   ]
  },
  {
   "cell_type": "markdown",
   "metadata": {},
   "source": [
    "### 20.from the above eigendecomposition confirm an eigenvector and eigenvalue"
   ]
  },
  {
   "cell_type": "markdown",
   "metadata": {},
   "source": [
    "#### The eigenvectors are returned as a matrix with the same dimensions as the parent matrix, where each column is an eigenvector, e.g. the first eigenvector is vectors[:, 0]. Eigenvalues are returned as a list, where value indices in the returned array are paired with eigenvectors by column index, e.g. the first eigenvalue at values[0] is paired with the first eigenvector at vectors[:, 0]."
   ]
  },
  {
   "cell_type": "code",
   "execution_count": 11,
   "metadata": {},
   "outputs": [
    {
     "name": "stdout",
     "output_type": "stream",
     "text": [
      "[ -3.73863537  -8.46653421 -13.19443305]\n",
      "\n",
      "[ -3.73863537  -8.46653421 -13.19443305]\n"
     ]
    }
   ],
   "source": [
    "from numpy import array\n",
    "from numpy.linalg import eig\n",
    "\n",
    "# define matrix\n",
    "A = array([[1, 2, 3], [4, 5, 6], [7, 8, 9]])\n",
    "\n",
    "# calculate eigendecomposition\n",
    "values, vectors = eig(A)\n",
    "\n",
    "# confirm first eigenvector\n",
    "B = A.dot(vectors[:, 0])\n",
    "print(B)\n",
    "print(\"\")\n",
    "C = vectors[:, 0] * values[0]\n",
    "print(C)\n",
    "#Av=(lambda)v should be proved"
   ]
  },
  {
   "cell_type": "markdown",
   "metadata": {},
   "source": [
    "### 21.Reconstruct the matrix from the Eigendecompostion"
   ]
  },
  {
   "cell_type": "markdown",
   "metadata": {},
   "source": [
    "#### We can reverse the process and reconstruct the original matrix given only the eigenvectors and eigenvalues.\n",
    "\n",
    "- First, the list of eigenvectors must be converted into a matrix, where each vector becomes a row. \n",
    "- The eigenvalues need to be arranged into a diagonal matrix. The NumPy diag() function can be used for this.\n",
    "- we need to calculate the inverse of the eigenvector matrix, which we can achieve with the inv() NumPy function.\n",
    "- Finally, these elements need to be multiplied together with the dot() function.\n",
    "\n"
   ]
  },
  {
   "cell_type": "code",
   "execution_count": 61,
   "metadata": {},
   "outputs": [
    {
     "name": "stdout",
     "output_type": "stream",
     "text": [
      "[[1 2 3]\n",
      " [4 5 6]\n",
      " [7 8 9]]\n",
      "\n",
      "[[1. 2. 3.]\n",
      " [4. 5. 6.]\n",
      " [7. 8. 9.]]\n"
     ]
    }
   ],
   "source": [
    "from numpy import diag\n",
    "from numpy import dot\n",
    "from numpy.linalg import inv\n",
    "from numpy import array\n",
    "from numpy.linalg import eig\n",
    "\n",
    "# define matrix\n",
    "A = array([[1, 2, 3], [4, 5, 6], [7, 8, 9]])\n",
    "print(A)\n",
    "print(\"\")\n",
    "\n",
    "# calculate eigenvectors and eigenvalues\n",
    "values, vectors = eig(A)\n",
    "\n",
    "# create matrix from eigenvectors\n",
    "Q = vectors\n",
    "\n",
    "# create inverse of eigenvectors matrix\n",
    "R = inv(Q)\n",
    "\n",
    "# create diagonal matrix from eigenvalues\n",
    "L = diag(values)\n",
    "\n",
    "# reconstruction of the original matrix\n",
    "B = Q.dot(L).dot(R)\n",
    "print(B)"
   ]
  },
  {
   "cell_type": "markdown",
   "metadata": {},
   "source": [
    "### 22.calculate the L1 norm for a 1x3 matrix"
   ]
  },
  {
   "cell_type": "markdown",
   "metadata": {},
   "source": [
    "#### Vector Norm:\n",
    "- The length of the vector is referred to as the vector norm or the vector’s magnitude.\n",
    "- The length of a vector is a nonnegative number that describes the extent of the vector in space."
   ]
  },
  {
   "cell_type": "markdown",
   "metadata": {},
   "source": [
    "#### L1 Norm:\n",
    "- The length of a vector can be calculated using the L1 norm, where the 1 is a superscript of the L, i.e. L^1.\n",
    "-  This length is sometimes called the taxicab norm or the Manhattan norm.\n",
    "- The L1 norm of a vector can be calculated in NumPy using the norm() function with a parameter to specify the norm order, in this case 1."
   ]
  },
  {
   "cell_type": "code",
   "execution_count": 14,
   "metadata": {},
   "outputs": [
    {
     "name": "stdout",
     "output_type": "stream",
     "text": [
      "[1 2 3]\n",
      "\n",
      "6.0\n"
     ]
    }
   ],
   "source": [
    "# l1 norm of a vector\n",
    "from numpy import array\n",
    "from numpy.linalg import norm\n",
    "\n",
    "a = array([1, 2, 3])\n",
    "print(a)\n",
    "print(\"\")\n",
    "\n",
    "l1 = norm(a, 1)\n",
    "print(l1)"
   ]
  },
  {
   "cell_type": "markdown",
   "metadata": {},
   "source": [
    "### 23.calculate the L2 norm for the 1x4 matrix"
   ]
  },
  {
   "cell_type": "markdown",
   "metadata": {},
   "source": [
    "#### L2 Norm:\n",
    "- The length of a vector can be calculated using the L2 norm, where the 2 is a superscript of the L, e.g. L^2.\n",
    "- It is also known as the Euclidean norm as it is calculated as the Euclidean distance from the origin. The result is a positive distance value.\n",
    "- The L2 norm of a vector can be calculated in NumPy using the norm() function with default parameters."
   ]
  },
  {
   "cell_type": "code",
   "execution_count": 63,
   "metadata": {},
   "outputs": [
    {
     "name": "stdout",
     "output_type": "stream",
     "text": [
      "[1 2 3 4]\n",
      "\n",
      "5.477225575051661\n"
     ]
    }
   ],
   "source": [
    "from numpy import array\n",
    "from numpy.linalg import norm\n",
    "\n",
    "#create 1*4 matrix\n",
    "a = array([1, 2, 3,4])\n",
    "print(a)\n",
    "print(\"\")\n",
    "\n",
    "#calculation of L2 Norm\n",
    "l2 = norm(a)\n",
    "print(l2)"
   ]
  },
  {
   "cell_type": "code",
   "execution_count": null,
   "metadata": {},
   "outputs": [],
   "source": []
  }
 ],
 "metadata": {
  "kernelspec": {
   "display_name": "Python 3",
   "language": "python",
   "name": "python3"
  },
  "language_info": {
   "codemirror_mode": {
    "name": "ipython",
    "version": 3
   },
   "file_extension": ".py",
   "mimetype": "text/x-python",
   "name": "python",
   "nbconvert_exporter": "python",
   "pygments_lexer": "ipython3",
   "version": "3.8.5"
  },
  "varInspector": {
   "cols": {
    "lenName": 16,
    "lenType": 16,
    "lenVar": 40
   },
   "kernels_config": {
    "python": {
     "delete_cmd_postfix": "",
     "delete_cmd_prefix": "del ",
     "library": "var_list.py",
     "varRefreshCmd": "print(var_dic_list())"
    },
    "r": {
     "delete_cmd_postfix": ") ",
     "delete_cmd_prefix": "rm(",
     "library": "var_list.r",
     "varRefreshCmd": "cat(var_dic_list()) "
    }
   },
   "types_to_exclude": [
    "module",
    "function",
    "builtin_function_or_method",
    "instance",
    "_Feature"
   ],
   "window_display": false
  }
 },
 "nbformat": 4,
 "nbformat_minor": 4
}
